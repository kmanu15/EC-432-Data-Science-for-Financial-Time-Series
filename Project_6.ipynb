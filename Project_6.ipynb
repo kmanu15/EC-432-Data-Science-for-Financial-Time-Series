{
 "cells": [
  {
   "cell_type": "code",
   "execution_count": 1,
   "id": "85c0e188-ae44-455c-8537-54a77991e97a",
   "metadata": {},
   "outputs": [],
   "source": [
    "import pandas as pd\n",
    "import numpy as np\n",
    "import matplotlib.pyplot as plt\n",
    "import matplotlib.dates as mdates\n",
    "import yfinance as yf\n",
    "import warnings\n",
    "from pandas.errors import SettingWithCopyWarning\n",
    "warnings.filterwarnings(\"ignore\", category=SettingWithCopyWarning)"
   ]
  },
  {
   "cell_type": "markdown",
   "id": "7d3f50dd-3de6-4e98-a3db-e830f56d58c6",
   "metadata": {
    "panel-layout": {
     "height": 50.796875,
     "visible": true,
     "width": 100
    }
   },
   "source": [
    "## 1. The (equal weighted) moving average filter of a series $X_t$ is $$\\overline{X}^k_t = k^{-1}(X_t+X_{t-1}+...+X_{t-k})$$ where $k$ is the number of lags to include, sometimes called a bandwidth parameter. For daily stock prices, common values include 5, 10, 20, 50, 100, and 200. These smoothed values are often used in trading strategies of the contrarian type, that is: $$\\text{buy when } X_t < \\overline{X}^k_t \\text{ and sell when } X_t \\geq \\overline{X}^k_t.$$ Download the daily S&P 500 data from the beginnig of the 2010 to the most recent trading day."
   ]
  },
  {
   "cell_type": "code",
   "execution_count": 2,
   "id": "38951369-1c2b-4326-84ed-ca5afc4461e3",
   "metadata": {
    "panel-layout": {
     "height": 173,
     "visible": true,
     "width": 100
    }
   },
   "outputs": [
    {
     "name": "stderr",
     "output_type": "stream",
     "text": [
      "[*********************100%***********************]  1 of 1 completed\n"
     ]
    },
    {
     "data": {
      "text/html": [
       "<div>\n",
       "<style scoped>\n",
       "    .dataframe tbody tr th:only-of-type {\n",
       "        vertical-align: middle;\n",
       "    }\n",
       "\n",
       "    .dataframe tbody tr th {\n",
       "        vertical-align: top;\n",
       "    }\n",
       "\n",
       "    .dataframe thead th {\n",
       "        text-align: right;\n",
       "    }\n",
       "</style>\n",
       "<table border=\"1\" class=\"dataframe\">\n",
       "  <thead>\n",
       "    <tr style=\"text-align: right;\">\n",
       "      <th>Price</th>\n",
       "      <th>Date</th>\n",
       "      <th>Adj Close</th>\n",
       "    </tr>\n",
       "  </thead>\n",
       "  <tbody>\n",
       "    <tr>\n",
       "      <th>0</th>\n",
       "      <td>2010-01-04</td>\n",
       "      <td>1132.989990</td>\n",
       "    </tr>\n",
       "    <tr>\n",
       "      <th>1</th>\n",
       "      <td>2010-01-05</td>\n",
       "      <td>1136.520020</td>\n",
       "    </tr>\n",
       "    <tr>\n",
       "      <th>2</th>\n",
       "      <td>2010-01-06</td>\n",
       "      <td>1137.140015</td>\n",
       "    </tr>\n",
       "    <tr>\n",
       "      <th>3</th>\n",
       "      <td>2010-01-07</td>\n",
       "      <td>1141.689941</td>\n",
       "    </tr>\n",
       "    <tr>\n",
       "      <th>4</th>\n",
       "      <td>2010-01-08</td>\n",
       "      <td>1144.979980</td>\n",
       "    </tr>\n",
       "  </tbody>\n",
       "</table>\n",
       "</div>"
      ],
      "text/plain": [
       "Price       Date    Adj Close\n",
       "0     2010-01-04  1132.989990\n",
       "1     2010-01-05  1136.520020\n",
       "2     2010-01-06  1137.140015\n",
       "3     2010-01-07  1141.689941\n",
       "4     2010-01-08  1144.979980"
      ]
     },
     "execution_count": 2,
     "metadata": {},
     "output_type": "execute_result"
    }
   ],
   "source": [
    "df = yf.download('^SPX', start='2010-01-01', end='2025-01-24', interval='1d', auto_adjust=False)\n",
    "df = df.reset_index()\n",
    "df.columns = df.columns.droplevel(1)\n",
    "df = df[['Date', 'Adj Close']]\n",
    "df.head()"
   ]
  },
  {
   "cell_type": "markdown",
   "id": "58943ac1-1440-40b1-afcd-41c5d483428f",
   "metadata": {
    "panel-layout": {
     "height": 44.09375,
     "visible": true,
     "width": 100
    }
   },
   "source": [
    "### (a) Compute the moving average filters of the adjusted closing prices for $k \\in$ {5, 10, 20, 50, 100, 200}. Plot the moving average filters for $k \\in$ {5, 10, 20, 50, 100, 200} alongside the adjusted closing prices from the beginning of 2023."
   ]
  },
  {
   "cell_type": "code",
   "execution_count": 3,
   "id": "f0e74418-8c35-4079-9d01-73d15e19eba9",
   "metadata": {
    "panel-layout": {
     "height": 173,
     "visible": true,
     "width": 100
    }
   },
   "outputs": [
    {
     "data": {
      "text/html": [
       "<div>\n",
       "<style scoped>\n",
       "    .dataframe tbody tr th:only-of-type {\n",
       "        vertical-align: middle;\n",
       "    }\n",
       "\n",
       "    .dataframe tbody tr th {\n",
       "        vertical-align: top;\n",
       "    }\n",
       "\n",
       "    .dataframe thead th {\n",
       "        text-align: right;\n",
       "    }\n",
       "</style>\n",
       "<table border=\"1\" class=\"dataframe\">\n",
       "  <thead>\n",
       "    <tr style=\"text-align: right;\">\n",
       "      <th></th>\n",
       "      <th>MA_5</th>\n",
       "      <th>MA_10</th>\n",
       "      <th>MA_20</th>\n",
       "      <th>MA_50</th>\n",
       "      <th>MA_100</th>\n",
       "      <th>MA_200</th>\n",
       "      <th>Date</th>\n",
       "    </tr>\n",
       "  </thead>\n",
       "  <tbody>\n",
       "    <tr>\n",
       "      <th>0</th>\n",
       "      <td>NaN</td>\n",
       "      <td>NaN</td>\n",
       "      <td>NaN</td>\n",
       "      <td>NaN</td>\n",
       "      <td>NaN</td>\n",
       "      <td>NaN</td>\n",
       "      <td>2010-01-04</td>\n",
       "    </tr>\n",
       "    <tr>\n",
       "      <th>1</th>\n",
       "      <td>NaN</td>\n",
       "      <td>NaN</td>\n",
       "      <td>NaN</td>\n",
       "      <td>NaN</td>\n",
       "      <td>NaN</td>\n",
       "      <td>NaN</td>\n",
       "      <td>2010-01-05</td>\n",
       "    </tr>\n",
       "    <tr>\n",
       "      <th>2</th>\n",
       "      <td>NaN</td>\n",
       "      <td>NaN</td>\n",
       "      <td>NaN</td>\n",
       "      <td>NaN</td>\n",
       "      <td>NaN</td>\n",
       "      <td>NaN</td>\n",
       "      <td>2010-01-06</td>\n",
       "    </tr>\n",
       "    <tr>\n",
       "      <th>3</th>\n",
       "      <td>NaN</td>\n",
       "      <td>NaN</td>\n",
       "      <td>NaN</td>\n",
       "      <td>NaN</td>\n",
       "      <td>NaN</td>\n",
       "      <td>NaN</td>\n",
       "      <td>2010-01-07</td>\n",
       "    </tr>\n",
       "    <tr>\n",
       "      <th>4</th>\n",
       "      <td>1138.663989</td>\n",
       "      <td>NaN</td>\n",
       "      <td>NaN</td>\n",
       "      <td>NaN</td>\n",
       "      <td>NaN</td>\n",
       "      <td>NaN</td>\n",
       "      <td>2010-01-08</td>\n",
       "    </tr>\n",
       "  </tbody>\n",
       "</table>\n",
       "</div>"
      ],
      "text/plain": [
       "          MA_5  MA_10  MA_20  MA_50  MA_100  MA_200       Date\n",
       "0          NaN    NaN    NaN    NaN     NaN     NaN 2010-01-04\n",
       "1          NaN    NaN    NaN    NaN     NaN     NaN 2010-01-05\n",
       "2          NaN    NaN    NaN    NaN     NaN     NaN 2010-01-06\n",
       "3          NaN    NaN    NaN    NaN     NaN     NaN 2010-01-07\n",
       "4  1138.663989    NaN    NaN    NaN     NaN     NaN 2010-01-08"
      ]
     },
     "execution_count": 3,
     "metadata": {},
     "output_type": "execute_result"
    }
   ],
   "source": [
    "# Different moving averages\n",
    "k = [5, 10, 20, 50, 100, 200]\n",
    "k_ = [5, 20, 50, 200]\n",
    "ma = pd.DataFrame()\n",
    "\n",
    "# Loop through moving averages and add a column for each MA\n",
    "for i in k:\n",
    "    ma[f'MA_{i}'] = df['Adj Close'].rolling(window=i).mean()\n",
    "\n",
    "ma['Date'] = df['Date']\n",
    "ma['Date'] = pd.to_datetime(ma['Date'])\n",
    "ma.head() # Shows NaN's because the rolling takes the past i days"
   ]
  },
  {
   "cell_type": "code",
   "execution_count": 4,
   "id": "fd9ca8f4-fec0-40d5-88ee-791318127d0d",
   "metadata": {},
   "outputs": [],
   "source": [
    "ma_recent = ma[ma['Date'] >= '2023-01-01']\n",
    "df_recent = df[df['Date'] >= '2023-01-01']"
   ]
  },
  {
   "cell_type": "code",
   "execution_count": 5,
   "id": "04a540ce-27b8-4b7d-bd5f-1a7ee61b6177",
   "metadata": {
    "panel-layout": {
     "height": 767.34375,
     "visible": true,
     "width": 100
    }
   },
   "outputs": [
    {
     "data": {
      "text/plain": [
       "[]"
      ]
     },
     "execution_count": 5,
     "metadata": {},
     "output_type": "execute_result"
    },
    {
     "data": {
      "image/png": "[encoded data removed]",
      "text/plain": [
       "<Figure size 640x480 with 1 Axes>"
      ]
     },
     "metadata": {},
     "output_type": "display_data"
    }
   ],
   "source": [
    "# Plot different moving averages\n",
    "for i in k_:\n",
    "    plt.plot(ma_recent['Date'], ma_recent[f'MA_{i}'], label = f'MA_{i}')\n",
    "\n",
    "plt.gca().xaxis.set_major_locator(mdates.YearLocator())\n",
    "plt.plot(ma_recent['Date'], df_recent['Adj Close'], label = 'Closing Price')\n",
    "plt.xticks(rotation  = 45)\n",
    "plt.grid()\n",
    "plt.legend()\n",
    "plt.ylabel('Price')\n",
    "plt.xlabel('Date')\n",
    "plt.plot()"
   ]
  },
  {
   "cell_type": "markdown",
   "id": "9078fd56-ab6c-4adb-af5c-5c777db88c41",
   "metadata": {
    "panel-layout": {
     "height": 44.09375,
     "visible": true,
     "width": 100
    }
   },
   "source": [
    "### (b) Implement daily contrarian trading strategies using the moving average filters from part (a). Estimate the expected daily log returns and Sharpe ratios for these strategies."
   ]
  },
  {
   "cell_type": "code",
   "execution_count": 6,
   "id": "b66f6880-3b7c-4141-9f23-b15c8b3e0e89",
   "metadata": {},
   "outputs": [
    {
     "data": {
      "text/html": [
       "<div>\n",
       "<style scoped>\n",
       "    .dataframe tbody tr th:only-of-type {\n",
       "        vertical-align: middle;\n",
       "    }\n",
       "\n",
       "    .dataframe tbody tr th {\n",
       "        vertical-align: top;\n",
       "    }\n",
       "\n",
       "    .dataframe thead th {\n",
       "        text-align: right;\n",
       "    }\n",
       "</style>\n",
       "<table border=\"1\" class=\"dataframe\">\n",
       "  <thead>\n",
       "    <tr style=\"text-align: right;\">\n",
       "      <th>Price</th>\n",
       "      <th>Date</th>\n",
       "      <th>Adj Close</th>\n",
       "      <th>MA_5</th>\n",
       "      <th>MA_10</th>\n",
       "      <th>MA_20</th>\n",
       "      <th>MA_50</th>\n",
       "      <th>MA_100</th>\n",
       "      <th>MA_200</th>\n",
       "      <th>buy_5</th>\n",
       "      <th>buy_10</th>\n",
       "      <th>buy_20</th>\n",
       "      <th>buy_50</th>\n",
       "      <th>buy_100</th>\n",
       "      <th>buy_200</th>\n",
       "    </tr>\n",
       "  </thead>\n",
       "  <tbody>\n",
       "    <tr>\n",
       "      <th>3272</th>\n",
       "      <td>2023-01-03</td>\n",
       "      <td>3824.139893</td>\n",
       "      <td>3825.077979</td>\n",
       "      <td>3831.031982</td>\n",
       "      <td>3891.793494</td>\n",
       "      <td>3901.430815</td>\n",
       "      <td>3898.714617</td>\n",
       "      <td>4005.438265</td>\n",
       "      <td>1</td>\n",
       "      <td>1</td>\n",
       "      <td>1</td>\n",
       "      <td>1</td>\n",
       "      <td>1</td>\n",
       "      <td>1</td>\n",
       "    </tr>\n",
       "    <tr>\n",
       "      <th>3273</th>\n",
       "      <td>2023-01-04</td>\n",
       "      <td>3852.969971</td>\n",
       "      <td>3829.821973</td>\n",
       "      <td>3834.562988</td>\n",
       "      <td>3884.499988</td>\n",
       "      <td>3903.435215</td>\n",
       "      <td>3895.171616</td>\n",
       "      <td>4002.387515</td>\n",
       "      <td>0</td>\n",
       "      <td>0</td>\n",
       "      <td>1</td>\n",
       "      <td>1</td>\n",
       "      <td>1</td>\n",
       "      <td>1</td>\n",
       "    </tr>\n",
       "    <tr>\n",
       "      <th>3274</th>\n",
       "      <td>2023-01-05</td>\n",
       "      <td>3808.100098</td>\n",
       "      <td>3834.797998</td>\n",
       "      <td>3833.210986</td>\n",
       "      <td>3877.841992</td>\n",
       "      <td>3903.650415</td>\n",
       "      <td>3890.451118</td>\n",
       "      <td>3999.122114</td>\n",
       "      <td>1</td>\n",
       "      <td>1</td>\n",
       "      <td>1</td>\n",
       "      <td>1</td>\n",
       "      <td>1</td>\n",
       "      <td>1</td>\n",
       "    </tr>\n",
       "    <tr>\n",
       "      <th>3275</th>\n",
       "      <td>2023-01-06</td>\n",
       "      <td>3895.080078</td>\n",
       "      <td>3843.958008</td>\n",
       "      <td>3834.875000</td>\n",
       "      <td>3875.900000</td>\n",
       "      <td>3904.369814</td>\n",
       "      <td>3886.430518</td>\n",
       "      <td>3996.039465</td>\n",
       "      <td>0</td>\n",
       "      <td>0</td>\n",
       "      <td>0</td>\n",
       "      <td>1</td>\n",
       "      <td>0</td>\n",
       "      <td>1</td>\n",
       "    </tr>\n",
       "    <tr>\n",
       "      <th>3276</th>\n",
       "      <td>2023-01-09</td>\n",
       "      <td>3892.090088</td>\n",
       "      <td>3854.476025</td>\n",
       "      <td>3841.845020</td>\n",
       "      <td>3872.329004</td>\n",
       "      <td>3905.599614</td>\n",
       "      <td>3882.299417</td>\n",
       "      <td>3993.218715</td>\n",
       "      <td>0</td>\n",
       "      <td>0</td>\n",
       "      <td>0</td>\n",
       "      <td>1</td>\n",
       "      <td>0</td>\n",
       "      <td>1</td>\n",
       "    </tr>\n",
       "  </tbody>\n",
       "</table>\n",
       "</div>"
      ],
      "text/plain": [
       "Price       Date    Adj Close         MA_5        MA_10        MA_20  \\\n",
       "3272  2023-01-03  3824.139893  3825.077979  3831.031982  3891.793494   \n",
       "3273  2023-01-04  3852.969971  3829.821973  3834.562988  3884.499988   \n",
       "3274  2023-01-05  3808.100098  3834.797998  3833.210986  3877.841992   \n",
       "3275  2023-01-06  3895.080078  3843.958008  3834.875000  3875.900000   \n",
       "3276  2023-01-09  3892.090088  3854.476025  3841.845020  3872.329004   \n",
       "\n",
       "Price        MA_50       MA_100       MA_200  buy_5  buy_10  buy_20  buy_50  \\\n",
       "3272   3901.430815  3898.714617  4005.438265      1       1       1       1   \n",
       "3273   3903.435215  3895.171616  4002.387515      0       0       1       1   \n",
       "3274   3903.650415  3890.451118  3999.122114      1       1       1       1   \n",
       "3275   3904.369814  3886.430518  3996.039465      0       0       0       1   \n",
       "3276   3905.599614  3882.299417  3993.218715      0       0       0       1   \n",
       "\n",
       "Price  buy_100  buy_200  \n",
       "3272         1        1  \n",
       "3273         1        1  \n",
       "3274         1        1  \n",
       "3275         0        1  \n",
       "3276         0        1  "
      ]
     },
     "execution_count": 6,
     "metadata": {},
     "output_type": "execute_result"
    }
   ],
   "source": [
    "# Add moving averages to df\n",
    "for i in k:\n",
    "    df_recent[f'MA_{i}'] = ma[f'MA_{i}']\n",
    "\n",
    "# Add buy conditions to df for contrarian strategies\n",
    "for i in k:\n",
    "    df_recent[f'buy_{i}'] = np.where(df_recent['Adj Close'] < df_recent[f'MA_{i}'], 1, 0)\n",
    "\n",
    "df_recent.head()"
   ]
  },
  {
   "cell_type": "code",
   "execution_count": 7,
   "id": "0c68c5a4-9b63-4cc7-bbd2-4d69170f6357",
   "metadata": {},
   "outputs": [
    {
     "name": "stdout",
     "output_type": "stream",
     "text": [
      "   returns_5  returns_10  returns_20  returns_50  returns_100  returns_200\n",
      "0        NaN         NaN         NaN         NaN          NaN          NaN\n",
      "1   0.000000    0.000000    0.007511    0.007511     0.007511     0.007511\n",
      "2  -0.011714   -0.011714   -0.011714   -0.011714    -0.011714    -0.011714\n",
      "3   0.000000    0.000000    0.000000    0.022584     0.000000     0.022584\n",
      "4   0.000000    0.000000    0.000000   -0.000768     0.000000    -0.000768\n",
      "       sr_5     sr_10     sr_20     sr_50    sr_100    sr_200\n",
      "0       NaN       NaN       NaN       NaN       NaN       NaN\n",
      "1  0.000000  0.000000  1.417672  1.477976  2.295734  3.077860\n",
      "2 -2.242131 -2.202256 -2.211037 -2.305088 -3.580485 -4.800308\n",
      "3  0.000000  0.000000  0.000000  4.444111  0.000000  9.254787\n",
      "4  0.000000  0.000000  0.000000 -0.151115  0.000000 -0.314694\n"
     ]
    }
   ],
   "source": [
    "# create log_returns and sharpe ratio dataframe for contrarian trading strategy\n",
    "log_returns_c = pd.DataFrame()\n",
    "sr_c = pd.DataFrame()\n",
    "\n",
    "# Daily log returns for each moving average\n",
    "for i in k:\n",
    "    log_returns_c[f'returns_{i}'] = np.where(\n",
    "        df_recent[f'buy_{i}'] == 1, np.log(df_recent['Adj Close'] / df_recent['Adj Close'].shift(1)), 0)\n",
    "\n",
    "# Daily sharpe ratio for each moving average\n",
    "for i in k:\n",
    "    sr_c[f'sr_{i}'] = np.where(\n",
    "        df_recent[f'buy_{i}'] == 1, log_returns_c[f'returns_{i}']/log_returns_c[f'returns_{i}'].std(), 0)\n",
    "\n",
    "print(log_returns_c.head())\n",
    "print(sr_c.head())"
   ]
  },
  {
   "cell_type": "markdown",
   "id": "b6da6dd7-ae76-46c4-ad99-fca049506d82",
   "metadata": {},
   "source": [
    "### (c) Conduct the same analysis as in part (b) for daily momentum trading strategies."
   ]
  },
  {
   "cell_type": "code",
   "execution_count": 8,
   "id": "2ab14800-e1ca-412c-9f4d-2ef8faf3c4a3",
   "metadata": {},
   "outputs": [
    {
     "data": {
      "text/html": [
       "<div>\n",
       "<style scoped>\n",
       "    .dataframe tbody tr th:only-of-type {\n",
       "        vertical-align: middle;\n",
       "    }\n",
       "\n",
       "    .dataframe tbody tr th {\n",
       "        vertical-align: top;\n",
       "    }\n",
       "\n",
       "    .dataframe thead th {\n",
       "        text-align: right;\n",
       "    }\n",
       "</style>\n",
       "<table border=\"1\" class=\"dataframe\">\n",
       "  <thead>\n",
       "    <tr style=\"text-align: right;\">\n",
       "      <th>Price</th>\n",
       "      <th>Date</th>\n",
       "      <th>Adj Close</th>\n",
       "      <th>MA_5</th>\n",
       "      <th>MA_10</th>\n",
       "      <th>MA_20</th>\n",
       "      <th>MA_50</th>\n",
       "      <th>MA_100</th>\n",
       "      <th>MA_200</th>\n",
       "      <th>buy_5</th>\n",
       "      <th>buy_10</th>\n",
       "      <th>buy_20</th>\n",
       "      <th>buy_50</th>\n",
       "      <th>buy_100</th>\n",
       "      <th>buy_200</th>\n",
       "    </tr>\n",
       "  </thead>\n",
       "  <tbody>\n",
       "    <tr>\n",
       "      <th>3272</th>\n",
       "      <td>2023-01-03</td>\n",
       "      <td>3824.139893</td>\n",
       "      <td>3825.077979</td>\n",
       "      <td>3831.031982</td>\n",
       "      <td>3891.793494</td>\n",
       "      <td>3901.430815</td>\n",
       "      <td>3898.714617</td>\n",
       "      <td>4005.438265</td>\n",
       "      <td>0</td>\n",
       "      <td>0</td>\n",
       "      <td>0</td>\n",
       "      <td>0</td>\n",
       "      <td>0</td>\n",
       "      <td>0</td>\n",
       "    </tr>\n",
       "    <tr>\n",
       "      <th>3273</th>\n",
       "      <td>2023-01-04</td>\n",
       "      <td>3852.969971</td>\n",
       "      <td>3829.821973</td>\n",
       "      <td>3834.562988</td>\n",
       "      <td>3884.499988</td>\n",
       "      <td>3903.435215</td>\n",
       "      <td>3895.171616</td>\n",
       "      <td>4002.387515</td>\n",
       "      <td>1</td>\n",
       "      <td>1</td>\n",
       "      <td>0</td>\n",
       "      <td>0</td>\n",
       "      <td>0</td>\n",
       "      <td>0</td>\n",
       "    </tr>\n",
       "    <tr>\n",
       "      <th>3274</th>\n",
       "      <td>2023-01-05</td>\n",
       "      <td>3808.100098</td>\n",
       "      <td>3834.797998</td>\n",
       "      <td>3833.210986</td>\n",
       "      <td>3877.841992</td>\n",
       "      <td>3903.650415</td>\n",
       "      <td>3890.451118</td>\n",
       "      <td>3999.122114</td>\n",
       "      <td>0</td>\n",
       "      <td>0</td>\n",
       "      <td>0</td>\n",
       "      <td>0</td>\n",
       "      <td>0</td>\n",
       "      <td>0</td>\n",
       "    </tr>\n",
       "    <tr>\n",
       "      <th>3275</th>\n",
       "      <td>2023-01-06</td>\n",
       "      <td>3895.080078</td>\n",
       "      <td>3843.958008</td>\n",
       "      <td>3834.875000</td>\n",
       "      <td>3875.900000</td>\n",
       "      <td>3904.369814</td>\n",
       "      <td>3886.430518</td>\n",
       "      <td>3996.039465</td>\n",
       "      <td>1</td>\n",
       "      <td>1</td>\n",
       "      <td>1</td>\n",
       "      <td>0</td>\n",
       "      <td>1</td>\n",
       "      <td>0</td>\n",
       "    </tr>\n",
       "    <tr>\n",
       "      <th>3276</th>\n",
       "      <td>2023-01-09</td>\n",
       "      <td>3892.090088</td>\n",
       "      <td>3854.476025</td>\n",
       "      <td>3841.845020</td>\n",
       "      <td>3872.329004</td>\n",
       "      <td>3905.599614</td>\n",
       "      <td>3882.299417</td>\n",
       "      <td>3993.218715</td>\n",
       "      <td>1</td>\n",
       "      <td>1</td>\n",
       "      <td>1</td>\n",
       "      <td>0</td>\n",
       "      <td>1</td>\n",
       "      <td>0</td>\n",
       "    </tr>\n",
       "  </tbody>\n",
       "</table>\n",
       "</div>"
      ],
      "text/plain": [
       "Price       Date    Adj Close         MA_5        MA_10        MA_20  \\\n",
       "3272  2023-01-03  3824.139893  3825.077979  3831.031982  3891.793494   \n",
       "3273  2023-01-04  3852.969971  3829.821973  3834.562988  3884.499988   \n",
       "3274  2023-01-05  3808.100098  3834.797998  3833.210986  3877.841992   \n",
       "3275  2023-01-06  3895.080078  3843.958008  3834.875000  3875.900000   \n",
       "3276  2023-01-09  3892.090088  3854.476025  3841.845020  3872.329004   \n",
       "\n",
       "Price        MA_50       MA_100       MA_200  buy_5  buy_10  buy_20  buy_50  \\\n",
       "3272   3901.430815  3898.714617  4005.438265      0       0       0       0   \n",
       "3273   3903.435215  3895.171616  4002.387515      1       1       0       0   \n",
       "3274   3903.650415  3890.451118  3999.122114      0       0       0       0   \n",
       "3275   3904.369814  3886.430518  3996.039465      1       1       1       0   \n",
       "3276   3905.599614  3882.299417  3993.218715      1       1       1       0   \n",
       "\n",
       "Price  buy_100  buy_200  \n",
       "3272         0        0  \n",
       "3273         0        0  \n",
       "3274         0        0  \n",
       "3275         1        0  \n",
       "3276         1        0  "
      ]
     },
     "execution_count": 8,
     "metadata": {},
     "output_type": "execute_result"
    }
   ],
   "source": [
    "# Add buy conditions to df for momentum strategies\n",
    "for i in k:\n",
    "    df_recent[f'buy_{i}'] = np.where(df_recent['Adj Close'] >= df_recent[f'MA_{i}'], 1, 0)\n",
    "\n",
    "df_recent.head()"
   ]
  },
  {
   "cell_type": "code",
   "execution_count": 9,
   "id": "43f7c265-5055-4014-9e22-382674722dd6",
   "metadata": {},
   "outputs": [
    {
     "name": "stdout",
     "output_type": "stream",
     "text": [
      "   returns_5  returns_10  returns_20  returns_50  returns_100  returns_200\n",
      "0   0.000000    0.000000    0.000000         0.0     0.000000          0.0\n",
      "1   0.007511    0.007511    0.000000         0.0     0.000000          0.0\n",
      "2   0.000000    0.000000    0.000000         0.0     0.000000          0.0\n",
      "3   0.022584    0.022584    0.022584         0.0     0.022584          0.0\n",
      "4  -0.000768   -0.000768   -0.000768         0.0    -0.000768          0.0\n",
      "       sr_5     sr_10     sr_20  sr_50    sr_100  sr_200\n",
      "0  0.000000  0.000000  0.000000    0.0  0.000000     0.0\n",
      "1  1.434479  1.354067  0.000000    0.0  0.000000     0.0\n",
      "2  0.000000  0.000000  0.000000    0.0  0.000000     0.0\n",
      "3  4.313320  4.071531  3.779218    0.0  3.048603     0.0\n",
      "4 -0.146668 -0.138446 -0.128506    0.0 -0.103663     0.0\n"
     ]
    }
   ],
   "source": [
    "# create log_returns and sharpe ratio dataframe for momentum trading strategy\n",
    "log_returns_m = pd.DataFrame()\n",
    "sr_m = pd.DataFrame()\n",
    "\n",
    "# Daily log returns for each moving average\n",
    "for i in k:\n",
    "    log_returns_m[f'returns_{i}'] = np.where(\n",
    "        df_recent[f'buy_{i}'] == 1, np.log(df_recent['Adj Close'] / df_recent['Adj Close'].shift(1)), 0)\n",
    "\n",
    "# Daily sharpe ratio for each moving average\n",
    "for i in k:\n",
    "    sr_m[f'sr_{i}'] = np.where(\n",
    "        df_recent[f'buy_{i}'] == 1, log_returns_m[f'returns_{i}']/log_returns_m[f'returns_{i}'].std(), 0)\n",
    "\n",
    "print(log_returns_m.head())\n",
    "print(sr_m.head())"
   ]
  },
  {
   "cell_type": "markdown",
   "id": "dd45f1a3-ed3e-4c3e-aa8d-a1db72f21503",
   "metadata": {},
   "source": [
    "### (d) Based on your findings in parts (b) and (c), which trading strategy do you prefer? Justify your choice."
   ]
  },
  {
   "cell_type": "markdown",
   "id": "cebd97cb-f109-4576-b7e7-a51d4b05443f",
   "metadata": {},
   "source": [
    "#### Under Contrarian Strategy:"
   ]
  },
  {
   "cell_type": "code",
   "execution_count": 10,
   "id": "dd9d6ce9-725f-4ea9-87d5-fe3f40a95a1d",
   "metadata": {},
   "outputs": [
    {
     "name": "stdout",
     "output_type": "stream",
     "text": [
      "k = 5\n",
      "-0.0019617576369316413\n",
      "k = 10\n",
      "-0.0014595359703922298\n",
      "k = 20\n",
      "-0.0006872331893421401\n",
      "k = 50\n",
      "-0.0003565567798692975\n",
      "k = 100\n",
      "-0.00016668675144260818\n",
      "k = 200\n",
      "-6.940838620777625e-05\n"
     ]
    }
   ],
   "source": [
    "for i in k:\n",
    "    print(f'k = {i}')\n",
    "    print(log_returns_c[f'returns_{i}'].mean())"
   ]
  },
  {
   "cell_type": "markdown",
   "id": "57200b2d-7777-4e73-8576-90031a442b35",
   "metadata": {},
   "source": [
    "#### Under Momentum Strategy:"
   ]
  },
  {
   "cell_type": "code",
   "execution_count": 11,
   "id": "9d58fd39-13e0-44cc-9e95-ebeb8d090724",
   "metadata": {},
   "outputs": [
    {
     "name": "stdout",
     "output_type": "stream",
     "text": [
      "k = 5\n",
      "0.0028688428087613803\n",
      "k = 10\n",
      "0.0023675944400253397\n",
      "k = 20\n",
      "0.0015967883697912387\n",
      "k = 50\n",
      "0.0012667528060731883\n",
      "k = 100\n",
      "0.0010772507428178685\n",
      "k = 200\n",
      "0.0009801609015466699\n"
     ]
    }
   ],
   "source": [
    "for i in k:\n",
    "    print(f'k = {i}')\n",
    "    print(log_returns_m[f'returns_{i}'].mean())"
   ]
  },
  {
   "cell_type": "markdown",
   "id": "14a2a52f-99d5-4122-9168-619349ffff5b",
   "metadata": {},
   "source": [
    "Based on my results from (b) and (c), I prefer the momentum trading strategy because the average return is positive for all values of $k$, while the contrarian strategy yields negative returns. This suggests momentum is consistently more profitable and sustainable."
   ]
  },
  {
   "cell_type": "markdown",
   "id": "10bd4ed5-6fd6-4aef-8f43-eb885799549d",
   "metadata": {},
   "source": [
    "## 2. The so-called Bollinger bands are a modification of the moving average rules that allow a margin of safety by allowing for time varying volatility. They are defined as follows $$BB^U_t = \\overline{X}^k_t + 2 \\sigma_t,$$ $$BB^L_t = \\overline{X}^k_t - 2\\sigma_t,$$ where $\\sigma_t$ denotes the sample standard deviation of {$X_t, X_{t-1}, ..., X_{t-k}$}. Compute the Bollinger bands for your data series and compare the contrarian type trading strategies:\n",
    "\n",
    "## buy when $X_t < BB^L_t$, sell when $X_t \\geq BB^U_t$ and do nothing otherwise\n",
    "\n",
    "## or moment type, that is\n",
    "\n",
    "## buy when $X_t \\geq BB^U_t$, selle when $X_t < BB^L_t$ and do nothing otherwise. \n",
    "\n",
    "## Use daily S&P 500 data from the beginning of 2010 to the most recent trading day."
   ]
  },
  {
   "cell_type": "markdown",
   "id": "c88a3c22-78df-4117-ad1b-d49bc1adbc71",
   "metadata": {},
   "source": [
    "### (a) Compute the Bollinger bands of the adjusted closing prices for $k \\in$ {5, 10, 20, 50, 100, 200}. Plot the Bollinger bands for $k \\in$ {5, 20} alongside the adjusted closing prices from the beginning of 2023."
   ]
  },
  {
   "cell_type": "code",
   "execution_count": 12,
   "id": "a60a44a4-cecc-4a89-aa49-2f114b84a49b",
   "metadata": {},
   "outputs": [
    {
     "data": {
      "text/html": [
       "<div>\n",
       "<style scoped>\n",
       "    .dataframe tbody tr th:only-of-type {\n",
       "        vertical-align: middle;\n",
       "    }\n",
       "\n",
       "    .dataframe tbody tr th {\n",
       "        vertical-align: top;\n",
       "    }\n",
       "\n",
       "    .dataframe thead th {\n",
       "        text-align: right;\n",
       "    }\n",
       "</style>\n",
       "<table border=\"1\" class=\"dataframe\">\n",
       "  <thead>\n",
       "    <tr style=\"text-align: right;\">\n",
       "      <th></th>\n",
       "      <th>bbu_5</th>\n",
       "      <th>bbl_5</th>\n",
       "      <th>bbu_10</th>\n",
       "      <th>bbl_10</th>\n",
       "      <th>bbu_20</th>\n",
       "      <th>bbl_20</th>\n",
       "      <th>bbu_50</th>\n",
       "      <th>bbl_50</th>\n",
       "      <th>bbu_100</th>\n",
       "      <th>bbl_100</th>\n",
       "      <th>bbu_200</th>\n",
       "      <th>bbl_200</th>\n",
       "      <th>Date</th>\n",
       "    </tr>\n",
       "  </thead>\n",
       "  <tbody>\n",
       "    <tr>\n",
       "      <th>3272</th>\n",
       "      <td>3875.715045</td>\n",
       "      <td>3774.440912</td>\n",
       "      <td>3880.567920</td>\n",
       "      <td>3781.496045</td>\n",
       "      <td>4039.383666</td>\n",
       "      <td>3744.203321</td>\n",
       "      <td>4090.872380</td>\n",
       "      <td>3711.989251</td>\n",
       "      <td>4246.015991</td>\n",
       "      <td>3551.413242</td>\n",
       "      <td>4492.038460</td>\n",
       "      <td>3518.838071</td>\n",
       "      <td>2023-01-03</td>\n",
       "    </tr>\n",
       "    <tr>\n",
       "      <th>3273</th>\n",
       "      <td>3886.497740</td>\n",
       "      <td>3773.146205</td>\n",
       "      <td>3884.890156</td>\n",
       "      <td>3784.235821</td>\n",
       "      <td>4024.012650</td>\n",
       "      <td>3744.987326</td>\n",
       "      <td>4088.526674</td>\n",
       "      <td>3718.343756</td>\n",
       "      <td>4236.939593</td>\n",
       "      <td>3553.403640</td>\n",
       "      <td>4485.087314</td>\n",
       "      <td>3519.687716</td>\n",
       "      <td>2023-01-04</td>\n",
       "    </tr>\n",
       "    <tr>\n",
       "      <th>3274</th>\n",
       "      <td>3872.059664</td>\n",
       "      <td>3797.536332</td>\n",
       "      <td>3885.760819</td>\n",
       "      <td>3780.661154</td>\n",
       "      <td>4018.652902</td>\n",
       "      <td>3737.031082</td>\n",
       "      <td>4088.262791</td>\n",
       "      <td>3719.038039</td>\n",
       "      <td>4223.667902</td>\n",
       "      <td>3557.234335</td>\n",
       "      <td>4478.167005</td>\n",
       "      <td>3520.077224</td>\n",
       "      <td>2023-01-05</td>\n",
       "    </tr>\n",
       "    <tr>\n",
       "      <th>3275</th>\n",
       "      <td>3910.238494</td>\n",
       "      <td>3777.677522</td>\n",
       "      <td>3894.383273</td>\n",
       "      <td>3775.366727</td>\n",
       "      <td>4014.508593</td>\n",
       "      <td>3737.291407</td>\n",
       "      <td>4088.553600</td>\n",
       "      <td>3720.186029</td>\n",
       "      <td>4209.364430</td>\n",
       "      <td>3563.496605</td>\n",
       "      <td>4469.731473</td>\n",
       "      <td>3522.347458</td>\n",
       "      <td>2023-01-06</td>\n",
       "    </tr>\n",
       "    <tr>\n",
       "      <th>3276</th>\n",
       "      <td>3932.813645</td>\n",
       "      <td>3776.138406</td>\n",
       "      <td>3910.481435</td>\n",
       "      <td>3773.208604</td>\n",
       "      <td>4004.986211</td>\n",
       "      <td>3739.671797</td>\n",
       "      <td>4088.590217</td>\n",
       "      <td>3722.609012</td>\n",
       "      <td>4193.961212</td>\n",
       "      <td>3570.637621</td>\n",
       "      <td>4462.593135</td>\n",
       "      <td>3523.844294</td>\n",
       "      <td>2023-01-09</td>\n",
       "    </tr>\n",
       "  </tbody>\n",
       "</table>\n",
       "</div>"
      ],
      "text/plain": [
       "            bbu_5        bbl_5       bbu_10       bbl_10       bbu_20  \\\n",
       "3272  3875.715045  3774.440912  3880.567920  3781.496045  4039.383666   \n",
       "3273  3886.497740  3773.146205  3884.890156  3784.235821  4024.012650   \n",
       "3274  3872.059664  3797.536332  3885.760819  3780.661154  4018.652902   \n",
       "3275  3910.238494  3777.677522  3894.383273  3775.366727  4014.508593   \n",
       "3276  3932.813645  3776.138406  3910.481435  3773.208604  4004.986211   \n",
       "\n",
       "           bbl_20       bbu_50       bbl_50      bbu_100      bbl_100  \\\n",
       "3272  3744.203321  4090.872380  3711.989251  4246.015991  3551.413242   \n",
       "3273  3744.987326  4088.526674  3718.343756  4236.939593  3553.403640   \n",
       "3274  3737.031082  4088.262791  3719.038039  4223.667902  3557.234335   \n",
       "3275  3737.291407  4088.553600  3720.186029  4209.364430  3563.496605   \n",
       "3276  3739.671797  4088.590217  3722.609012  4193.961212  3570.637621   \n",
       "\n",
       "          bbu_200      bbl_200       Date  \n",
       "3272  4492.038460  3518.838071 2023-01-03  \n",
       "3273  4485.087314  3519.687716 2023-01-04  \n",
       "3274  4478.167005  3520.077224 2023-01-05  \n",
       "3275  4469.731473  3522.347458 2023-01-06  \n",
       "3276  4462.593135  3523.844294 2023-01-09  "
      ]
     },
     "execution_count": 12,
     "metadata": {},
     "output_type": "execute_result"
    }
   ],
   "source": [
    "sigma = pd.DataFrame()\n",
    "bb = pd.DataFrame()\n",
    "\n",
    "for i in k:\n",
    "    sigma[f'sigma_{i}'] = df['Adj Close'].rolling(window=i).std()\n",
    "\n",
    "for i in k:\n",
    "    bb[f'bbu_{i}'] = ma[f'MA_{i}'] + 2*sigma[f'sigma_{i}']\n",
    "    bb[f'bbl_{i}'] = ma[f'MA_{i}'] - 2*sigma[f'sigma_{i}']\n",
    "\n",
    "bb['Date'] = ma['Date']\n",
    "bb_recent = bb[bb['Date'] >= '2023-01-01']\n",
    "bb_recent.head()"
   ]
  },
  {
   "cell_type": "code",
   "execution_count": 13,
   "id": "f2666da7-445e-449a-a36f-3663029ee769",
   "metadata": {},
   "outputs": [
    {
     "data": {
      "image/png": "[encoded data removed]",
      "text/plain": [
       "<Figure size 640x480 with 1 Axes>"
      ]
     },
     "metadata": {},
     "output_type": "display_data"
    }
   ],
   "source": [
    "k_2 = [5, 20]\n",
    "\n",
    "for i in k_2:\n",
    "    plt.plot(bb_recent['Date'], bb_recent[f'bbu_{i}'], label = f'BBU_{i}')\n",
    "    plt.plot(bb_recent['Date'], bb_recent[f'bbl_{i}'], label = f'BBL_{i}')\n",
    "\n",
    "plt.gca().xaxis.set_major_locator(mdates.YearLocator())\n",
    "plt.plot(bb_recent['Date'], df_recent['Adj Close'], label = 'S&P500 Closing Price')\n",
    "plt.legend()\n",
    "plt.xlabel('Date')\n",
    "plt.ylabel('Price')\n",
    "plt.grid()\n",
    "plt.show()"
   ]
  },
  {
   "cell_type": "markdown",
   "id": "912dfa4f-84cd-414c-87e6-b8d7e3392d09",
   "metadata": {},
   "source": [
    "### (b) Implement daily contrarian trading strategies using the Bollinger bands from part (a). Estimate the expected daily log returns and Sharpe ratios for these strategies."
   ]
  },
  {
   "cell_type": "code",
   "execution_count": 27,
   "id": "717b37ee-76ae-442b-9c4e-267267c2a477",
   "metadata": {},
   "outputs": [
    {
     "name": "stdout",
     "output_type": "stream",
     "text": [
      "Buy with 5 day moving average 0 times\n",
      "Buy with 20 day moving average 19 times\n"
     ]
    }
   ],
   "source": [
    "df_recent = df[df['Date'] >= '2023-01-01']\n",
    "\n",
    "# Add buy conditions to df for contrarian strategies\n",
    "for i in k_2:\n",
    "    df_recent[f'buy_{i}'] = np.where(df_recent['Adj Close'] < bb_recent[f'bbl_{i}'], 1, 0)\n",
    "\n",
    "print('Buy with 5 day moving average', df_recent['buy_5'].sum(), 'times')\n",
    "print('Buy with 20 day moving average', df_recent['buy_20'].sum(), 'times')"
   ]
  },
  {
   "cell_type": "code",
   "execution_count": 15,
   "id": "bcd035bb-79ef-4e38-ab0f-4f4689a532ba",
   "metadata": {},
   "outputs": [],
   "source": [
    "# create log_returns and sharpe ratio dataframe for contrarian trading strategy\n",
    "log_returns_c = pd.DataFrame()\n",
    "sr_c = pd.DataFrame()\n",
    "\n",
    "# Daily log returns for 20 day moving average\n",
    "log_returns_c['returns_20'] = np.where(\n",
    "    df_recent['buy_20'] == 1, np.log(df_recent['Adj Close'] / df_recent['Adj Close'].shift(1)), 0)\n",
    "\n",
    "# Daily sharpe ratio for each moving average\n",
    "sr_c['sr_20'] = np.where(\n",
    "    df_recent['buy_20'] == 1, log_returns_c['returns_20'] / log_returns_c['returns_20'].std(), 0)"
   ]
  },
  {
   "cell_type": "code",
   "execution_count": 30,
   "id": "5a060fca-1919-4904-95c9-ff46788e2a99",
   "metadata": {},
   "outputs": [
    {
     "name": "stdout",
     "output_type": "stream",
     "text": [
      "Mean log return = -0.00041664921384479317\n",
      "Mean Sharpe ratio = -0.15507688102044423\n"
     ]
    }
   ],
   "source": [
    "print('Mean log return =', log_returns_c['returns_20'].mean())\n",
    "print('Mean Sharpe ratio =', sr_c['sr_20'].mean())"
   ]
  },
  {
   "cell_type": "markdown",
   "id": "824fa5f5-733a-40a0-8cf4-feb8e966dc73",
   "metadata": {},
   "source": [
    "For the contrarian Bollinger bands strategy, the expected daily log return is negative and close to zero for the 20 day moving average, and the expected Sharpe ratio for the 20 moving average is also negative. Meaningful buy signals only occurred when the rolling window was set to $k = 20$, which severely limits the number of trades."
   ]
  },
  {
   "cell_type": "markdown",
   "id": "6e399c43-bd80-48ac-9ccd-92b9a39eb5c8",
   "metadata": {},
   "source": [
    "### (c) Conduct the same analysis as in part (b) for daily momentum trading strategies."
   ]
  },
  {
   "cell_type": "code",
   "execution_count": 28,
   "id": "031040bf-87ac-459d-b36b-b0b41adbe77f",
   "metadata": {},
   "outputs": [
    {
     "name": "stdout",
     "output_type": "stream",
     "text": [
      "Buy with 5 day moving average 0 times\n",
      "Buy with 20 day moving average 30 times\n"
     ]
    }
   ],
   "source": [
    "# Add buy conditions to df for momentum strategies\n",
    "for i in k_2:\n",
    "    df_recent[f'buy_{i}'] = np.where(df_recent['Adj Close'] >= bb_recent[f'bbu_{i}'], 1, 0)\n",
    "\n",
    "print('Buy with 5 day moving average', df_recent['buy_5'].sum(), 'times')\n",
    "print('Buy with 20 day moving average', df_recent['buy_20'].sum(), 'times')"
   ]
  },
  {
   "cell_type": "markdown",
   "id": "1bd6fd95-b5b6-4315-9450-c77f9a890a9c",
   "metadata": {},
   "source": [
    "Once again, you only buy when the rolling window is 20."
   ]
  },
  {
   "cell_type": "code",
   "execution_count": 32,
   "id": "65367ff1-93d6-4066-ae37-dfaaae6d892f",
   "metadata": {},
   "outputs": [],
   "source": [
    "# create log_returns and sharpe ratio dataframe for momentum trading strategy\n",
    "log_returns_m = pd.DataFrame()\n",
    "sr_m = pd.DataFrame()\n",
    "\n",
    "# Daily log returns for 20 day moving average\n",
    "log_returns_m['returns_20'] = np.where(\n",
    "    df_recent['buy_20'] == 1, np.log(df_recent['Adj Close'] / df_recent['Adj Close'].shift(1)), 0)\n",
    "\n",
    "# Daily sharpe ratio for each moving average\n",
    "sr_m['sr_20'] = np.where(\n",
    "    df_recent['buy_20'] == 1, log_returns_m['returns_20'] / log_returns_c['returns_20'].std(), 0)"
   ]
  },
  {
   "cell_type": "code",
   "execution_count": 33,
   "id": "30e85ae6-8e96-41bc-8c0e-4be459a3b3ba",
   "metadata": {},
   "outputs": [
    {
     "name": "stdout",
     "output_type": "stream",
     "text": [
      "Mean log return = 0.00046217081018455955\n",
      "Mean Sharpe ratio = 0.1720200239446796\n"
     ]
    }
   ],
   "source": [
    "print('Mean log return =', log_returns_m['returns_20'].mean())\n",
    "print('Mean Sharpe ratio =', sr_m['sr_20'].mean())"
   ]
  },
  {
   "cell_type": "markdown",
   "id": "ca3c5523-551e-4a48-89ae-527fcdd7994a",
   "metadata": {},
   "source": [
    "For the momentum Bollinger bands strategy, the expected daily log return is positive and close to zero for the 20 day moving average, and the expected Sharpe ratio for the 20 moving average is also positive at around 0.17. Once again, meaningful buy signals only occurred when the rolling window was set to $k = 20$, still limiting the number of trades."
   ]
  },
  {
   "cell_type": "markdown",
   "id": "0b42dec4-6d42-4505-b741-f3cacb5e6cf9",
   "metadata": {},
   "source": [
    "### (d) Based on your findings in parts (b) and (c) of Question 1, as well as parts (b) and (c) of this question, which trading strategy do you prefer? Provide a justification for your choice."
   ]
  },
  {
   "cell_type": "markdown",
   "id": "affaa090-71e9-4c6f-90ab-fcb27d916cc0",
   "metadata": {},
   "source": [
    "Based on these trading strategies, I would still prefer the momentum trading strategy using moving averages because it produces the highest average returns for all values of k. In contrast, the Bollinger Bands strategy only generates buy opportunities when k equals 20, making it less flexible and less reliable in practice. The contrarian strategy produces negative returns in both Question 1, and when using Bollinger bands."
   ]
  }
 ],
 "metadata": {
  "kernelspec": {
   "display_name": "Python [conda env:base] *",
   "language": "python",
   "name": "conda-base-py"
  },
  "language_info": {
   "codemirror_mode": {
    "name": "ipython",
    "version": 3
   },
   "file_extension": ".py",
   "mimetype": "text/x-python",
   "name": "python",
   "nbconvert_exporter": "python",
   "pygments_lexer": "ipython3",
   "version": "3.12.4"
  },
  "panel-cell-order": [
   "a39e893f-065b-46c4-985c-12fbc9ae8ff5",
   "e380be94-3f74-4736-a23e-3f7b1eacc28e",
   "5a7c291e-cf04-4f4b-8b3f-8607764acd34",
   "ce88f23b-8685-4434-b313-e7de2f6b12cd",
   "d0d4a0d6-305c-4e84-af72-a78e86d0712f",
   "2d202812-e567-4eeb-804b-cb2b2a3c647a",
   "e8f1e7c0-328c-4f2d-bae3-b3ba3d2035d0",
   "1b3a886b-bf99-4a22-a63b-ed614dd087f9",
   "4553f36a-68f4-442d-be96-6fd0999d8078",
   "5ae1c694-b148-47d8-8bb6-a49372e7ce2d",
   "a3252c1a-c0e3-4a02-8698-eef93d8a8482",
   "37c9dbac-a070-4273-b439-703299c4dbaf",
   "fab06b56-57b7-4081-9234-6cfa8154b267",
   "e79993e4-7504-443c-bd4a-ce0ac03868bd",
   "22ed17d8-8648-4685-b3f3-04303f48becb",
   "7b8b86ea-1ec7-4e31-aacd-8923b9bb40d4",
   "2b38ea38-2037-4e51-a485-5c08d06aa55d",
   "47c938a0-21d0-46c7-824e-ec3dfbbf0514",
   "7113ed7b-863d-4759-b56a-63e46623e309",
   "4a9f47ea-5d8f-4856-81b1-42a63445fa5e",
   "60e33f65-7520-424e-a169-fe083cc16e72",
   "142d8c2d-c7cb-4ebe-8c04-c52de736054d",
   "b9a35975-b89a-4ffc-8f89-96e9fd5e8c0f",
   "37f67982-b769-4d53-ae7b-4e2c9ba09903",
   "083065f9-622b-4fd7-baee-c8f1757d7fcb",
   "c59c04b2-ab13-4715-b6ab-d57ac9eb54c5",
   "bfe79d9a-2b3c-4d5d-bb30-26654fe210c3",
   "2bf0a4ff-fb24-4ee2-85cc-382891fb2353",
   "aa406758-f662-4180-bae5-e6333e2f6d8c",
   "dabb9ad7-9a08-4120-8eab-e35133bb8a58",
   "d3cb1e0a-837e-44d5-b30e-71a2f2f9b55d",
   "59dd854e-8d46-458b-9a7d-14522b094e13",
   "297d5bd0-1426-41ca-ae51-546bca4e3e64",
   "e9009d32-82bd-4a81-a056-3b6595582cd4",
   "9876ed33-435f-469d-b4fb-868e370e2bf5",
   "38951369-1c2b-4326-84ed-ca5afc4461e3",
   "7d3f50dd-3de6-4e98-a3db-e830f56d58c6",
   "58943ac1-1440-40b1-afcd-41c5d483428f",
   "f0e74418-8c35-4079-9d01-73d15e19eba9",
   "04a540ce-27b8-4b7d-bd5f-1a7ee61b6177",
   "9078fd56-ab6c-4adb-af5c-5c777db88c41"
  ]
 },
 "nbformat": 4,
 "nbformat_minor": 5
}
